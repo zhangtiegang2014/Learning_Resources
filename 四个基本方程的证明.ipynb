{
 "cells": [
  {
   "cell_type": "markdown",
   "metadata": {},
   "source": [
    "## BP1"
   ]
  },
  {
   "cell_type": "markdown",
   "metadata": {},
   "source": [
    "\\begin{eqnarray}\n",
    "  \\delta^L_j & = & \\frac{\\partial C}{\\partial z^L_j} \\\\\n",
    "  & = & \\sum_k \\frac{\\partial C}{\\partial a^L_k} \\frac{\\partial a^L_k}{\\partial z^L_j} \\\\\n",
    "  & = & \\frac{\\partial C}{\\partial a^L_j} \\frac{\\partial a^L_j}{\\partial z^L_j}\n",
    "\\end{eqnarray}\n",
    "得\n",
    "\\begin{eqnarray}\n",
    "  \\delta^L_j = \\frac{\\partial C}{\\partial a^L_j} \\sigma'(z^L_j)\n",
    "\\end{eqnarray}\n"
   ]
  },
  {
   "cell_type": "markdown",
   "metadata": {},
   "source": [
    "## BP2"
   ]
  },
  {
   "cell_type": "markdown",
   "metadata": {},
   "source": [
    "\\begin{eqnarray}\n",
    "  \\delta^l_j & = & \\frac{\\partial C}{\\partial z^l_j} \\\\\n",
    "  & = & \\sum_k \\frac{\\partial C}{\\partial z^{l+1}_k} \\frac{\\partial z^{l+1}_k}{\\partial z^l_j} \\\\ \n",
    "  & = & \\sum_k \\frac{\\partial z^{l+1}_k}{\\partial z^l_j} \\delta^{l+1}_k\n",
    "\\end{eqnarray}\n",
    "\n",
    "\\begin{eqnarray}\n",
    "  z^{l+1}_k = \\sum_j w^{l+1}_{kj} a^l_j +b^{l+1}_k = \\sum_j w^{l+1}_{kj} \\sigma(z^l_j) +b^{l+1}_k\n",
    "\\end{eqnarray}\n",
    "求微分，\n",
    "\\begin{eqnarray}\n",
    "  \\frac{\\partial z^{l+1}_k}{\\partial z^l_j} = w^{l+1}_{kj} \\sigma'(z^l_j)\n",
    "\\end{eqnarray}\n",
    "得\n",
    "\\begin{eqnarray}\n",
    "  \\delta^l_j = \\sum_k w^{l+1}_{kj}  \\delta^{l+1}_k \\sigma'(z^l_j)\n",
    "\\end{eqnarray}\n",
    "\n",
    "\\begin{eqnarray} \n",
    "  \\delta^l = ((w^{l+1})^T \\delta^{l+1}) \\odot \\sigma'(z^l)\n",
    "\\end{eqnarray}\n"
   ]
  },
  {
   "cell_type": "markdown",
   "metadata": {},
   "source": [
    "## BP3"
   ]
  },
  {
   "cell_type": "markdown",
   "metadata": {},
   "source": [
    "\\begin{eqnarray}\n",
    "  \\frac{\\partial C}{\\partial b^l_j}\n",
    "  & = & \\sum_k \\frac{\\partial C}{\\partial z^{l}_k} \\frac{\\partial z^{l}_k}{\\partial b^l_j} \\\\ \n",
    "\\end{eqnarray}\n",
    "\n",
    "\\begin{eqnarray}\n",
    "  z^{l}_k = \\sum_j w^{l}_{kj} a^{l-1}_j +b^{l}_k = \\sum_j w^{l}_{kj} \\sigma(z^{l-1}_j) +b^{l}_k\n",
    "\\end{eqnarray}\n",
    "\n",
    "\\begin{eqnarray}\n",
    "\\frac{\\partial z^{l}_k}{\\partial b^l_j} & = & 1\n",
    "\\end{eqnarray}\n",
    "得\n",
    "\\begin{eqnarray}  \\frac{\\partial C}{\\partial b^l_j} =\n",
    "  \\delta^l_j\n",
    "\\end{eqnarray}"
   ]
  },
  {
   "cell_type": "markdown",
   "metadata": {},
   "source": [
    "## BP4"
   ]
  },
  {
   "cell_type": "markdown",
   "metadata": {},
   "source": [
    "\\begin{eqnarray}\n",
    "  \\frac{\\partial C}{\\partial w^l_{jk}}\n",
    "  & = & \\sum_k \\frac{\\partial C}{\\partial z^{l}_k} \\frac{\\partial z^{l}_k}{\\partial w^l_{jk}} \\\\ \n",
    "\\end{eqnarray}\n",
    "\n",
    "\\begin{eqnarray}\n",
    "  z^{l}_k = \\sum_j w^{l}_{kj} a^{l-1}_j +b^{l}_k = \\sum_j w^{l}_{kj} \\sigma(z^{l-1}_j) +b^{l}_k\n",
    "\\end{eqnarray}\n",
    "\n",
    "\\begin{eqnarray}\n",
    "\\frac{\\partial z^{l}_k}{\\partial w^l_{jk}} & = & a^{l-1}_k\n",
    "\\end{eqnarray}\n",
    "得\n",
    "\\begin{eqnarray}\n",
    "  \\frac{\\partial C}{\\partial w^l_{jk}} = a^{l-1}_k \\delta^l_j\n",
    "\\end{eqnarray}\n"
   ]
  },
  {
   "cell_type": "code",
   "execution_count": null,
   "metadata": {},
   "outputs": [],
   "source": []
  }
 ],
 "metadata": {
  "kernelspec": {
   "display_name": "Python 3",
   "language": "python",
   "name": "python3"
  },
  "language_info": {
   "codemirror_mode": {
    "name": "ipython",
    "version": 3
   },
   "file_extension": ".py",
   "mimetype": "text/x-python",
   "name": "python",
   "nbconvert_exporter": "python",
   "pygments_lexer": "ipython3",
   "version": "3.6.2"
  }
 },
 "nbformat": 4,
 "nbformat_minor": 2
}
